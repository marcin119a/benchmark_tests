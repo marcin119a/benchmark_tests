{
  "nbformat": 4,
  "nbformat_minor": 0,
  "metadata": {
    "colab": {
      "provenance": []
    },
    "kernelspec": {
      "name": "python3",
      "display_name": "Python 3"
    },
    "language_info": {
      "name": "python"
    }
  },
  "cells": [
    {
      "cell_type": "code",
      "source": [
        "!wget https://raw.githubusercontent.com/marcin119a/benchmark_tests/main/data/seq_err.txt"
      ],
      "metadata": {
        "colab": {
          "base_uri": "https://localhost:8080/"
        },
        "id": "LA4K9Nf42Qz-",
        "outputId": "d76ce327-43c5-4dc9-ab7e-79e182719285"
      },
      "execution_count": 5,
      "outputs": [
        {
          "output_type": "stream",
          "name": "stdout",
          "text": [
            "--2023-08-01 11:27:39--  https://raw.githubusercontent.com/marcin119a/benchmark_tests/main/data/seq_err.txt\n",
            "Resolving raw.githubusercontent.com (raw.githubusercontent.com)... 185.199.108.133, 185.199.109.133, 185.199.110.133, ...\n",
            "Connecting to raw.githubusercontent.com (raw.githubusercontent.com)|185.199.108.133|:443... connected.\n",
            "HTTP request sent, awaiting response... 200 OK\n",
            "Length: 29999 (29K) [text/plain]\n",
            "Saving to: ‘seq_err.txt.1’\n",
            "\n",
            "seq_err.txt.1       100%[===================>]  29.30K  --.-KB/s    in 0.003s  \n",
            "\n",
            "2023-08-01 11:27:39 (8.68 MB/s) - ‘seq_err.txt.1’ saved [29999/29999]\n",
            "\n"
          ]
        }
      ]
    },
    {
      "cell_type": "code",
      "execution_count": 6,
      "metadata": {
        "colab": {
          "base_uri": "https://localhost:8080/"
        },
        "id": "tV7qjIkI2Nfq",
        "outputId": "28556467-06e7-4779-aa63-bd31593fbb9b"
      },
      "outputs": [
        {
          "output_type": "stream",
          "name": "stdout",
          "text": [
            "Number of lines with errors in the file 'long_dna.txt': 53\n"
          ]
        }
      ],
      "source": [
        "# Function to extract k-mers from a DNA sequence\n",
        "def extract_kmers(dna_sequence, k):\n",
        "    kmers = []\n",
        "    n = len(dna_sequence)\n",
        "    for i in range(n - k + 1):\n",
        "        kmer = dna_sequence[i:i + k]\n",
        "        kmers.append(kmer)\n",
        "    return kmers\n",
        "\n",
        "# Function to read the content of a text file\n",
        "def read_txt_file(file_path):\n",
        "    try:\n",
        "        with open(file_path, 'r') as file:\n",
        "            content = file.read()\n",
        "            return content\n",
        "    except FileNotFoundError:\n",
        "        print(\"File not found.\")\n",
        "        return None\n",
        "    except Exception as e:\n",
        "        print(f\"An error occurred while reading the file: {e}\")\n",
        "        return None\n",
        "\n",
        "# Example usage of the read_txt_file function\n",
        "file_path = 'seq_err.txt'\n",
        "sequence = read_txt_file(file_path).replace('\\n', '')\n",
        "\n",
        "# Function to generate k-mers from a DNA sequence\n",
        "def generate_kmers(sequence, k):\n",
        "    kmers = []\n",
        "    n = len(sequence)\n",
        "    if k <= 0 or k > n:\n",
        "        raise ValueError(\"Invalid value of k.\")\n",
        "    for i in range(n - k + 1):\n",
        "        kmer = sequence[i:i+k]\n",
        "        kmers.append(kmer)\n",
        "    return kmers\n",
        "\n",
        "# Example usage of the generate_kmers function\n",
        "k = 12\n",
        "kmers = generate_kmers(sequence, k)\n",
        "\n",
        "# Function to create pairs of k-mers\n",
        "def all_pairs(kmers_12):\n",
        "    pairs_list = []\n",
        "\n",
        "    for i in range(len(kmers_12) - 1):\n",
        "        pair = [kmers_12[i], kmers_12[i + 1]]\n",
        "        pairs_list.append(pair)\n",
        "\n",
        "    return pairs_list\n",
        "\n",
        "pairs_list = all_pairs(kmers)\n",
        "\n",
        "file_name = f'long_dna_{k}.txt'\n",
        "\n",
        "# Writing to a file\n",
        "with open(file_name, 'w') as file:\n",
        "    for sublist in pairs_list:\n",
        "        line = ' '.join(sublist) + '\\n'\n",
        "        file.write(line)\n",
        "\n",
        "file_name = 'long_dna.txt'\n",
        "\n",
        "# Initializing the line counter\n",
        "line_count = 0\n",
        "\n",
        "# Opening the file in read mode\n",
        "with open(file_name, 'r') as file:\n",
        "    for line in file:\n",
        "        if 'N' in line.split('\\n')[0]:\n",
        "            line_count += 1\n",
        "\n",
        "print(f\"Number of lines with errors in the file '{file_name}': {line_count}\")"
      ]
    },
    {
      "cell_type": "code",
      "source": [
        "import random\n",
        "\n",
        "def all_pairs_with_error(kmers_12):\n",
        "    pairs_list = []\n",
        "\n",
        "    for i in range(len(kmers_12) - 1):\n",
        "        if 'N' not in kmers_12[i + 1]:\n",
        "            result = kmers_12[i]\n",
        "            insert_position = random.randint(0, len(result))\n",
        "            result = list(result)\n",
        "            # Convert the list back to a string\n",
        "            result[insert_position-1] = 'N'\n",
        "            pair = [''.join(result), kmers_12[i]]\n",
        "            pairs_list.append(pair)\n",
        "\n",
        "    return pairs_list\n",
        "\n",
        "pairs_list_errors = all_pairs_with_error(kmers)\n",
        "\n",
        "pairs_list_errors\n",
        "\n",
        "file_name = 'long_dna_errors.txt'\n",
        "\n",
        "# Writing to a file\n",
        "with open(file_name, 'w') as file:\n",
        "    for sublist in pairs_list_errors:\n",
        "        line = ' '.join(sublist) + '\\n'\n",
        "        file.write(line)"
      ],
      "metadata": {
        "id": "154TqMPa2ZF8"
      },
      "execution_count": 8,
      "outputs": []
    },
    {
      "cell_type": "code",
      "source": [],
      "metadata": {
        "id": "nM1vdqEg3TGZ"
      },
      "execution_count": null,
      "outputs": []
    }
  ]
}